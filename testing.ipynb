{
 "cells": [
  {
   "cell_type": "code",
   "execution_count": 1,
   "metadata": {},
   "outputs": [],
   "source": [
    "import tensorflow as tf\n",
    "import pandas as pd\n",
    "import requests\n",
    "import json\n",
    "import base64"
   ]
  },
  {
   "cell_type": "code",
   "execution_count": 4,
   "metadata": {},
   "outputs": [
    {
     "data": {
      "text/plain": [
       "{'ph': 6.063354789891076,\n",
       " 'Hardness': 160.76731128492577,\n",
       " 'Solids': 14775.14559575291,\n",
       " 'Chloramines': 7.484103646670236,\n",
       " 'Sulfate': 305.82855327870027,\n",
       " 'Conductivity': 327.27023868075764,\n",
       " 'Organic_carbon': 12.309015955365226,\n",
       " 'Trihalomethanes': 69.03845387066936,\n",
       " 'Turbidity': 3.4673369148168574}"
      ]
     },
     "execution_count": 4,
     "metadata": {},
     "output_type": "execute_result"
    }
   ],
   "source": [
    "data = pd.read_csv('data/water_quality.csv')\n",
    "data.drop(columns=['Potability'], inplace=True)\n",
    "inputs = data.sample(n=1, random_state=1).to_dict(orient='records')[0]\n",
    "inputs"
   ]
  },
  {
   "cell_type": "code",
   "execution_count": 5,
   "metadata": {},
   "outputs": [],
   "source": [
    "def prepare_json(inputs: dict):\n",
    "    feature_spec = dict()\n",
    "\n",
    "    for keys, values in inputs.items():\n",
    "        if isinstance(values, float):\n",
    "            feature_spec[keys] = tf.train.Feature(float_list=tf.train.FloatList(value=[values]))\n",
    "        elif isinstance(values, int):\n",
    "            feature_spec[keys] = tf.train.Feature(int64_list=tf.train.Int64List(value=[values]))\n",
    "        elif isinstance(values, str):\n",
    "            feature_spec[keys] = tf.train.Feature(bytes_list=tf.train.BytesList(value=[values.encode()]))\n",
    "\n",
    "    example = tf.train.Example(\n",
    "        features=tf.train.Features(feature=feature_spec)\n",
    "    ).SerializeToString()\n",
    "\n",
    "    result = [\n",
    "        {\n",
    "            \"examples\": {\n",
    "                \"b64\": base64.b64encode(example).decode()\n",
    "            }\n",
    "        }\n",
    "    ]\n",
    "\n",
    "    return json.dumps({\n",
    "        \"signature_name\": \"serving_default\",\n",
    "        \"instances\": result,\n",
    "    })"
   ]
  },
  {
   "cell_type": "code",
   "execution_count": 6,
   "metadata": {},
   "outputs": [
    {
     "name": "stdout",
     "output_type": "stream",
     "text": [
      "Safe\n"
     ]
    }
   ],
   "source": [
    "json_data = prepare_json(inputs)\n",
    "\n",
    "endpoint = \"https://water-classification.up.railway.app/v1/models/water-quality-model:predict\"\n",
    "response = requests.post(endpoint, data=json_data)\n",
    "\n",
    "prediction = response.json().get(\"predictions\")\n",
    "prediction_value = prediction[0][0]\n",
    "if prediction_value < 0.5:\n",
    "    result = \"Not Safe\"\n",
    "else:\n",
    "    result = \"Safe\"\n",
    "\n",
    "print(result)"
   ]
  },
  {
   "cell_type": "code",
   "execution_count": null,
   "metadata": {},
   "outputs": [],
   "source": []
  }
 ],
 "metadata": {
  "kernelspec": {
   "display_name": "mlops",
   "language": "python",
   "name": "python3"
  },
  "language_info": {
   "codemirror_mode": {
    "name": "ipython",
    "version": 3
   },
   "file_extension": ".py",
   "mimetype": "text/x-python",
   "name": "python",
   "nbconvert_exporter": "python",
   "pygments_lexer": "ipython3",
   "version": "3.8.10"
  }
 },
 "nbformat": 4,
 "nbformat_minor": 2
}
